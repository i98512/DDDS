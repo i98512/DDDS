{
 "cells": [
  {
   "cell_type": "markdown",
   "metadata": {},
   "source": [
    "HW3.1 Write a function that takes a string representation of an integer, e.g. a = \"1032\" and converts it to an integer. Do not use any existing libraries or functions that does this for you. If the string does not represent a valid integer, e.g. a = \"word\" or a = \"1a\" or a = \"1.2.3\", return None."
   ]
  },
  {
   "cell_type": "code",
   "execution_count": 5,
   "metadata": {
    "collapsed": false
   },
   "outputs": [
    {
     "name": "stdout",
     "output_type": "stream",
     "text": [
      "Please input a string or number:32\n",
      "Input is: 32\n",
      "Input type is: <class 'str'>\n",
      "Output: 32\n",
      "Output type is: <class 'int'>\n"
     ]
    }
   ],
   "source": [
    "a = str(input(\"Please input a string or number:\" ))\n",
    "print(\"Input is: %s\" % a)\n",
    "print(\"Input type is: %s\" % type(a))\n",
    "\n",
    "def IntConverter(a):\n",
    "\n",
    "\tans = 0\n",
    "\n",
    "\tL = list(range(10))\n",
    "\tL.append('-')\n",
    "\tL = str(L)\n",
    "\n",
    "\tcount = 0\n",
    "\tfor i in a:\n",
    "\t\tif i in L:\n",
    "\t\t\tcount = count + 1\n",
    "\n",
    "\tif count != len(a):\n",
    "\t\treturn None\n",
    "\telif a[0] == '-':\t\n",
    "\t\tfor p in a[1:]:\n",
    "\t\t\tans = ans*10 + ord(p) - ord('0')\n",
    "\t\treturn 0 - ans\n",
    "\telse:\n",
    "\t\tfor p in a:\n",
    "\t\t\tans = ans*10 + ord(p) - ord('0')\n",
    "\t\treturn ans\n",
    "\n",
    "\n",
    "\n",
    "Output = IntConverter(a)\n",
    "print(\"Output: %s\" % Output)\n",
    "print(\"Output type is: %s\" % type(Output))"
   ]
  },
  {
   "cell_type": "markdown",
   "metadata": {},
   "source": [
    "HW3.2 Do the above but for floats."
   ]
  },
  {
   "cell_type": "code",
   "execution_count": 8,
   "metadata": {
    "collapsed": false
   },
   "outputs": [
    {
     "name": "stdout",
     "output_type": "stream",
     "text": [
      "Please input a string or number:-42.12\n",
      "Input is: -42.12\n",
      "Input type is: <class 'str'>\n",
      "Output: -42.12\n",
      "Output type is: <class 'float'>\n"
     ]
    }
   ],
   "source": [
    "a = str(input(\"Please input a string or number:\" ))\n",
    "print(\"Input is: %s\" % a)\n",
    "print(\"Input type is: %s\" % type(a))\n",
    "\n",
    "\n",
    "def FloatConverter(a):\n",
    "\n",
    "\tans = 0.0\n",
    "\tans1 = 0.0\n",
    "\tans2 = 0.0\n",
    "\n",
    "\tL = list(range(10))\n",
    "\tL.append('-')\n",
    "\tL.append('.')\n",
    "\tL = str(L)\n",
    "\n",
    "\tcount = 0\n",
    "\tcount1 = 0\n",
    "\tfor i in a:\n",
    "\t\tif i in L:\n",
    "\t\t\tcount = count + 1\n",
    "\t\tif i is '.':\n",
    "\t\t\tcount1 = count1 + 1\n",
    "\n",
    "\tif count != len(a):\n",
    "\t\treturn None\n",
    "\telif count1>1 or a[0] == '.' or a[len(a)-1] == '.':\n",
    "\t\treturn None\n",
    "\telif count1 == 0:\n",
    "\t\tif a[0] == '-':\t\n",
    "\t\t\tfor p in a[1:]:\n",
    "\t\t\t\tans = ans*10 + ord(p) - ord('0')\n",
    "\t\t\treturn 0 - ans\n",
    "\t\telse:\n",
    "\t\t\tfor p in a:\n",
    "\t\t\t\tans = ans*10 + ord(p) - ord('0')\n",
    "\t\t\treturn ans\n",
    "\t\t\n",
    "\telse:\n",
    "\t\tif a[0] == '-':\n",
    "\t\t\ta = a[1:]\n",
    "\t\t\tpos = a.find('.')\n",
    "\t\t\talen = len(a)\n",
    "\t\t\ta = a.replace('.','')\n",
    "\t\t\tfor qp1 in a: \n",
    "\t\t\t\tans2 = ans2*10 + ord(qp1) - ord('0')\n",
    "\t\t\treturn 0 - ans2/(10**(alen-pos-1))\n",
    "\n",
    "\t\telse:\n",
    "\t\t\tpos = a.find('.')\n",
    "\t\t\talen = len(a)\n",
    "\t\t\ta = a.replace('.','')\n",
    "\t\t\tfor qp2 in a: \n",
    "\t\t\t\tans2 = ans2*10 + ord(qp2) - ord('0')\n",
    "\t\t\treturn ans2/(10**(alen-pos-1))\n",
    "\n",
    "\t\t\n",
    "\t\n",
    "\n",
    "\n",
    "\n",
    "Output = FloatConverter(a)\n",
    "print(\"Output: %s\" % Output)\n",
    "print(\"Output type is: %s\" % type(Output))"
   ]
  },
  {
   "cell_type": "markdown",
   "metadata": {},
   "source": [
    "HW3.4 Write a function that encodes the \"runs\" in a string. A run is a continuous block of the same letter. E.g. RLE(\"aabbbca\") should return \"a2b3c1a1\""
   ]
  },
  {
   "cell_type": "code",
   "execution_count": 13,
   "metadata": {
    "collapsed": false
   },
   "outputs": [
    {
     "name": "stdout",
     "output_type": "stream",
     "text": [
      "Please input a string:aaabacaddba\n",
      "Input string is: aaabacaddba\n",
      "Ouput is: 3a1b1a1c1a2d1b1a\n"
     ]
    }
   ],
   "source": [
    "text = input('Please input a string:')\n",
    "\n",
    "def RunString(text):\n",
    "\n",
    "\tctext = ['']*len(text)\n",
    "\tcount = [0]*len(text)\n",
    "\n",
    "\tc0 = 0\n",
    "\tc1 = 0\n",
    "\tc2 = 0\n",
    "\n",
    "\tif len(text) == 1:\n",
    "\t\tctext[c1] = i\n",
    "\t\tcount[c2] = 1\n",
    "\t\treturn ctext,count\n",
    "\n",
    "\n",
    "\tctext[c1] = text[0]\n",
    "\tcount[c2] = 1\n",
    "\n",
    "\tfor i in text[1:]:\n",
    "\t\tc0 = c0 + 1\n",
    "\t\tif c0 > len(text)-1:\n",
    "\t\t\treturn ctext,count\n",
    "\t\telif i == text[c0-1]:\n",
    "\t\t\tcount[c2] = count[c2]+1\n",
    "\t\telif i != text[c0-1]:\n",
    "\t\t\tc1 = c1+1\n",
    "\t\t\tc2 = c2+1\n",
    "\t\t\tctext[c1] = i\n",
    "\t\t\tcount[c2] = 1\n",
    "\n",
    "\n",
    "\toutput = ''\n",
    "\tfor i in range(c1+1):\n",
    "\t\toutput = output + str(count[i])\n",
    "\t\toutput = output + ctext[i]\n",
    "\n",
    "\treturn output\n",
    "\n",
    "\n",
    "print('Input string is: %s' % text)\n",
    "print('Ouput is: %s' % RunString(text))"
   ]
  },
  {
   "cell_type": "code",
   "execution_count": null,
   "metadata": {
    "collapsed": true
   },
   "outputs": [],
   "source": []
  },
  {
   "cell_type": "code",
   "execution_count": null,
   "metadata": {
    "collapsed": true
   },
   "outputs": [],
   "source": []
  }
 ],
 "metadata": {
  "kernelspec": {
   "display_name": "Python 3",
   "language": "python",
   "name": "python3"
  },
  "language_info": {
   "codemirror_mode": {
    "name": "ipython",
    "version": 3
   },
   "file_extension": ".py",
   "mimetype": "text/x-python",
   "name": "python",
   "nbconvert_exporter": "python",
   "pygments_lexer": "ipython3",
   "version": "3.5.2"
  }
 },
 "nbformat": 4,
 "nbformat_minor": 1
}
